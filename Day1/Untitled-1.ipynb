{
 "cells": [
  {
   "cell_type": "markdown",
   "id": "6e1a7da1",
   "metadata": {},
   "source": [
    "## What is Azure Data Factory?"
   ]
  },
  {
   "cell_type": "code",
   "execution_count": null,
   "id": "0e2c4d45",
   "metadata": {},
   "outputs": [],
   "source": [
    "Azure Data Factory (ADF) is a cloud-based data integration service designed to orchestrate and automate data workflows. \n",
    "It is used to collect, transform, and deliver data, ensuring that insights are readily accessible for analytics and decision-making. \n",
    "With its scalable and serverless architecture, ADF can handle workflows of any size—from simple data migrations to complex data transformation pipelines.\n",
    "ADF bridges the gap between data silos, enabling users to move and transform data between on-premises systems, cloud services, and external platforms. \n"
   ]
  }
 ],
 "metadata": {
  "language_info": {
   "name": "python"
  }
 },
 "nbformat": 4,
 "nbformat_minor": 5
}
